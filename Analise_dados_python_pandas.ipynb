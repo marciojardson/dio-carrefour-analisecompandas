{
  "nbformat": 4,
  "nbformat_minor": 0,
  "metadata": {
    "colab": {
      "name": "Analise_dados_python_pandas.ipynb",
      "provenance": [],
      "collapsed_sections": []
    },
    "kernelspec": {
      "name": "python3",
      "display_name": "Python 3"
    }
  },
  "cells": [
    {
      "cell_type": "markdown",
      "metadata": {
        "id": "ByyVku3MSpSv"
      },
      "source": [
        "# Estudo de analise de dados com python e pandas\n",
        "\n",
        "Nesse notebook vou fazer analise dos dados de vendas da AdventureWorks contido no arquivo AdventureWorks.xlsx. Baseado nos conhecimentos adquiridos no Bootcamp DIO-Banco Carrefour Data Engineer."
      ]
    },
    {
      "cell_type": "markdown",
      "metadata": {
        "id": "Fqw5ZYNDTQqu"
      },
      "source": [
        "* Importando bibliotecas que iremos utilizar \n",
        "\n",
        "\n"
      ]
    },
    {
      "cell_type": "code",
      "metadata": {
        "id": "G5HpRApza9UR"
      },
      "source": [
        "#Importando as bibliotecas\n",
        "import pandas as pd\n",
        "import matplotlib.pyplot as plt\n",
        "plt.style.use(\"seaborn\")\n",
        "\n",
        "import locale\n",
        "locale.setlocale(locale.LC_MONETARY, 'en_US.UTF-8')\n",
        "\n",
        "pd.options.display.float_format = '{:,.2f}'.format #defini exibição float em 2 casas"
      ],
      "execution_count": 98,
      "outputs": []
    },
    {
      "cell_type": "markdown",
      "metadata": {
        "id": "lFY7GQ1vTeDP"
      },
      "source": [
        "* Criando o dataframe a partir do arquivo do github, e verificando os dados carregados, qtd de linhas e tipos das colunas"
      ]
    },
    {
      "cell_type": "code",
      "metadata": {
        "id": "Rpxs2yU0ba23",
        "colab": {
          "base_uri": "https://localhost:8080/",
          "height": 388
        },
        "outputId": "4518322e-f6b8-45e2-bc90-d80ed133a7c5"
      },
      "source": [
        "#Criando DataFrame\n",
        "df = pd.read_excel(\"https://github.com/marciojardson/dio-carrefour-analisecompandas/blob/master/AdventureWorks.xlsx?raw=true\")\n",
        "\n",
        "#Visualizando as 5 primeiras linhas\n",
        "df.head()"
      ],
      "execution_count": 99,
      "outputs": [
        {
          "output_type": "execute_result",
          "data": {
            "text/html": [
              "<div>\n",
              "<style scoped>\n",
              "    .dataframe tbody tr th:only-of-type {\n",
              "        vertical-align: middle;\n",
              "    }\n",
              "\n",
              "    .dataframe tbody tr th {\n",
              "        vertical-align: top;\n",
              "    }\n",
              "\n",
              "    .dataframe thead th {\n",
              "        text-align: right;\n",
              "    }\n",
              "</style>\n",
              "<table border=\"1\" class=\"dataframe\">\n",
              "  <thead>\n",
              "    <tr style=\"text-align: right;\">\n",
              "      <th></th>\n",
              "      <th>Data Venda</th>\n",
              "      <th>Data Envio</th>\n",
              "      <th>ID Loja</th>\n",
              "      <th>ID Produto</th>\n",
              "      <th>ID Cliente</th>\n",
              "      <th>No. Venda</th>\n",
              "      <th>Custo Unitário</th>\n",
              "      <th>Preço Unitário</th>\n",
              "      <th>Quantidade</th>\n",
              "      <th>Valor Desconto</th>\n",
              "      <th>Valor Venda</th>\n",
              "      <th>Produto</th>\n",
              "      <th>Fabricante</th>\n",
              "      <th>Marca</th>\n",
              "      <th>Classe</th>\n",
              "      <th>Cor</th>\n",
              "    </tr>\n",
              "  </thead>\n",
              "  <tbody>\n",
              "    <tr>\n",
              "      <th>0</th>\n",
              "      <td>2008-05-09</td>\n",
              "      <td>2008-05-29</td>\n",
              "      <td>199</td>\n",
              "      <td>384</td>\n",
              "      <td>18839</td>\n",
              "      <td>200805093CS607</td>\n",
              "      <td>348.58</td>\n",
              "      <td>758.00</td>\n",
              "      <td>6</td>\n",
              "      <td>0.00</td>\n",
              "      <td>4,548.00</td>\n",
              "      <td>Adventure Works Laptop15.4W M1548 Red</td>\n",
              "      <td>Adventure Works</td>\n",
              "      <td>Adventure Works</td>\n",
              "      <td>Regular</td>\n",
              "      <td>Red</td>\n",
              "    </tr>\n",
              "    <tr>\n",
              "      <th>1</th>\n",
              "      <td>2008-05-12</td>\n",
              "      <td>2008-05-17</td>\n",
              "      <td>306</td>\n",
              "      <td>384</td>\n",
              "      <td>19051</td>\n",
              "      <td>200805123CS567</td>\n",
              "      <td>348.58</td>\n",
              "      <td>758.00</td>\n",
              "      <td>6</td>\n",
              "      <td>0.00</td>\n",
              "      <td>4,548.00</td>\n",
              "      <td>Adventure Works Laptop15.4W M1548 Red</td>\n",
              "      <td>Adventure Works</td>\n",
              "      <td>Adventure Works</td>\n",
              "      <td>Regular</td>\n",
              "      <td>Red</td>\n",
              "    </tr>\n",
              "    <tr>\n",
              "      <th>2</th>\n",
              "      <td>2008-05-14</td>\n",
              "      <td>2008-05-20</td>\n",
              "      <td>306</td>\n",
              "      <td>384</td>\n",
              "      <td>19052</td>\n",
              "      <td>200805143CS576</td>\n",
              "      <td>348.58</td>\n",
              "      <td>758.00</td>\n",
              "      <td>6</td>\n",
              "      <td>0.00</td>\n",
              "      <td>4,548.00</td>\n",
              "      <td>Adventure Works Laptop15.4W M1548 Red</td>\n",
              "      <td>Adventure Works</td>\n",
              "      <td>Adventure Works</td>\n",
              "      <td>Regular</td>\n",
              "      <td>Red</td>\n",
              "    </tr>\n",
              "    <tr>\n",
              "      <th>3</th>\n",
              "      <td>2008-05-21</td>\n",
              "      <td>2008-05-27</td>\n",
              "      <td>306</td>\n",
              "      <td>384</td>\n",
              "      <td>19052</td>\n",
              "      <td>200805213CS576</td>\n",
              "      <td>348.58</td>\n",
              "      <td>758.00</td>\n",
              "      <td>6</td>\n",
              "      <td>0.00</td>\n",
              "      <td>4,548.00</td>\n",
              "      <td>Adventure Works Laptop15.4W M1548 Red</td>\n",
              "      <td>Adventure Works</td>\n",
              "      <td>Adventure Works</td>\n",
              "      <td>Regular</td>\n",
              "      <td>Red</td>\n",
              "    </tr>\n",
              "    <tr>\n",
              "      <th>4</th>\n",
              "      <td>2008-06-20</td>\n",
              "      <td>2008-06-27</td>\n",
              "      <td>306</td>\n",
              "      <td>384</td>\n",
              "      <td>19053</td>\n",
              "      <td>200806203CS586</td>\n",
              "      <td>348.58</td>\n",
              "      <td>758.00</td>\n",
              "      <td>6</td>\n",
              "      <td>0.00</td>\n",
              "      <td>4,548.00</td>\n",
              "      <td>Adventure Works Laptop15.4W M1548 Red</td>\n",
              "      <td>Adventure Works</td>\n",
              "      <td>Adventure Works</td>\n",
              "      <td>Regular</td>\n",
              "      <td>Red</td>\n",
              "    </tr>\n",
              "  </tbody>\n",
              "</table>\n",
              "</div>"
            ],
            "text/plain": [
              "  Data Venda Data Envio  ID Loja  ...            Marca   Classe  Cor\n",
              "0 2008-05-09 2008-05-29      199  ...  Adventure Works  Regular  Red\n",
              "1 2008-05-12 2008-05-17      306  ...  Adventure Works  Regular  Red\n",
              "2 2008-05-14 2008-05-20      306  ...  Adventure Works  Regular  Red\n",
              "3 2008-05-21 2008-05-27      306  ...  Adventure Works  Regular  Red\n",
              "4 2008-06-20 2008-06-27      306  ...  Adventure Works  Regular  Red\n",
              "\n",
              "[5 rows x 16 columns]"
            ]
          },
          "metadata": {},
          "execution_count": 99
        }
      ]
    },
    {
      "cell_type": "code",
      "metadata": {
        "id": "UCJpu--kK9wo",
        "colab": {
          "base_uri": "https://localhost:8080/"
        },
        "outputId": "7b0648a5-892b-436a-8e18-a45122437d82"
      },
      "source": [
        "#Quantidade de linhas e colunas\n",
        "quantRegistros = df.shape[0]\n",
        "print('Quantidade de Registros: ',quantRegistros)\n",
        "print('\\nColunas:')\n",
        "df.info()"
      ],
      "execution_count": 100,
      "outputs": [
        {
          "output_type": "stream",
          "text": [
            "Quantidade de Registros:  904\n",
            "\n",
            "Colunas:\n",
            "<class 'pandas.core.frame.DataFrame'>\n",
            "RangeIndex: 904 entries, 0 to 903\n",
            "Data columns (total 16 columns):\n",
            " #   Column          Non-Null Count  Dtype         \n",
            "---  ------          --------------  -----         \n",
            " 0   Data Venda      904 non-null    datetime64[ns]\n",
            " 1   Data Envio      904 non-null    datetime64[ns]\n",
            " 2   ID Loja         904 non-null    int64         \n",
            " 3   ID Produto      904 non-null    int64         \n",
            " 4   ID Cliente      904 non-null    int64         \n",
            " 5   No. Venda       904 non-null    object        \n",
            " 6   Custo Unitário  904 non-null    float64       \n",
            " 7   Preço Unitário  904 non-null    float64       \n",
            " 8   Quantidade      904 non-null    int64         \n",
            " 9   Valor Desconto  904 non-null    float64       \n",
            " 10  Valor Venda     904 non-null    float64       \n",
            " 11  Produto         904 non-null    object        \n",
            " 12  Fabricante      904 non-null    object        \n",
            " 13  Marca           904 non-null    object        \n",
            " 14  Classe          904 non-null    object        \n",
            " 15  Cor             904 non-null    object        \n",
            "dtypes: datetime64[ns](2), float64(4), int64(4), object(6)\n",
            "memory usage: 113.1+ KB\n"
          ],
          "name": "stdout"
        }
      ]
    },
    {
      "cell_type": "markdown",
      "metadata": {
        "id": "Av-Z3XGdSf1w"
      },
      "source": [
        "* Renomeando colunas para facilitar manipulação:"
      ]
    },
    {
      "cell_type": "code",
      "metadata": {
        "id": "P9S1i8o1lUu-",
        "colab": {
          "base_uri": "https://localhost:8080/"
        },
        "outputId": "d6bd521b-da22-4e24-f71d-93c0053ac3c6"
      },
      "source": [
        "df.columns=['data_venda','data_envio', 'id_loja','id_produto', 'id_cliente','num_venda','custo_unidade','preco_unidade','quantidade','valor_desconto','valor_venda','produto','fabricante','marca','classe','cor']\n",
        "df.info()\n"
      ],
      "execution_count": 101,
      "outputs": [
        {
          "output_type": "stream",
          "text": [
            "<class 'pandas.core.frame.DataFrame'>\n",
            "RangeIndex: 904 entries, 0 to 903\n",
            "Data columns (total 16 columns):\n",
            " #   Column          Non-Null Count  Dtype         \n",
            "---  ------          --------------  -----         \n",
            " 0   data_venda      904 non-null    datetime64[ns]\n",
            " 1   data_envio      904 non-null    datetime64[ns]\n",
            " 2   id_loja         904 non-null    int64         \n",
            " 3   id_produto      904 non-null    int64         \n",
            " 4   id_cliente      904 non-null    int64         \n",
            " 5   num_venda       904 non-null    object        \n",
            " 6   custo_unidade   904 non-null    float64       \n",
            " 7   preco_unidade   904 non-null    float64       \n",
            " 8   quantidade      904 non-null    int64         \n",
            " 9   valor_desconto  904 non-null    float64       \n",
            " 10  valor_venda     904 non-null    float64       \n",
            " 11  produto         904 non-null    object        \n",
            " 12  fabricante      904 non-null    object        \n",
            " 13  marca           904 non-null    object        \n",
            " 14  classe          904 non-null    object        \n",
            " 15  cor             904 non-null    object        \n",
            "dtypes: datetime64[ns](2), float64(4), int64(4), object(6)\n",
            "memory usage: 113.1+ KB\n"
          ],
          "name": "stdout"
        }
      ]
    },
    {
      "cell_type": "markdown",
      "metadata": {
        "id": "Ppa7bS_NVfV3"
      },
      "source": [
        "* Mostrando os valores totais de custos, venda, lucro e os descontos sobre as vendas. Para isso criamos uma nova coluna valor_custo"
      ]
    },
    {
      "cell_type": "code",
      "metadata": {
        "id": "iESo4TJMa92a"
      },
      "source": [
        "df[\"valor_custo\"] = df[\"custo_unidade\"].mul(df[\"quantidade\"]) #Criando a coluna de custo\n",
        "df[\"valor_lucro\"] = df[\"valor_venda\"].sub(df[\"valor_custo\"]) #Criando a coluna de lucro"
      ],
      "execution_count": 102,
      "outputs": []
    },
    {
      "cell_type": "code",
      "metadata": {
        "colab": {
          "base_uri": "https://localhost:8080/"
        },
        "id": "W-PdODBCUW5-",
        "outputId": "230bf8cb-74c9-4e62-8ed5-9f13ec4cc9d5"
      },
      "source": [
        "\n",
        "\n",
        "totalVenda = df[\"valor_venda\"].sum()\n",
        "totalCusto = df[\"valor_custo\"].sum()\n",
        "totalDesconto = df[\"valor_desconto\"].sum()\n",
        "totalProdutos = df[\"quantidade\"].sum()\n",
        "\n",
        "totalLucro=  df[\"valor_lucro\"].sum()\n",
        "print('Valores de Vendas:')\n",
        "\n",
        "print(f'Quantidade de Vendas: {quantRegistros:,}')\n",
        "print(f'Quantidade de Produtos Vendidos: {totalProdutos:,}\\n')\n",
        "\n",
        "print(f'Total Custo: {locale.currency(totalCusto, grouping=True)}')\n",
        "print(f'Total Venda: {locale.currency(totalVenda, grouping=True)}')\n",
        "print(f'Total Lucro: {locale.currency(totalLucro, grouping=True)}')\n",
        "print(f'Total Descontos: {locale.currency(totalDesconto, grouping=True)}')"
      ],
      "execution_count": 103,
      "outputs": [
        {
          "output_type": "stream",
          "text": [
            "Valores de Vendas:\n",
            "Quantidade de Vendas: 904\n",
            "Quantidade de Produtos Vendidos: 56,907\n",
            "\n",
            "Total Custo: $2,486,783.05\n",
            "Total Venda: $5,984,606.14\n",
            "Total Lucro: $3,497,823.09\n",
            "Total Descontos: $622,967.46\n"
          ],
          "name": "stdout"
        }
      ]
    },
    {
      "cell_type": "markdown",
      "metadata": {
        "id": "OJeoNkfdbiCI"
      },
      "source": [
        "* Exibir lucro por lojas:"
      ]
    },
    {
      "cell_type": "code",
      "metadata": {
        "colab": {
          "base_uri": "https://localhost:8080/",
          "height": 172
        },
        "id": "ORbY7I11bimP",
        "outputId": "96b2987e-9e55-4f2f-bc2c-bafb27e571ee"
      },
      "source": [
        "\n",
        "sum = df.groupby('id_loja').sum().loc[:,{'valor_custo','valor_venda','valor_lucro'}]\n",
        "display(sum)"
      ],
      "execution_count": 104,
      "outputs": [
        {
          "output_type": "display_data",
          "data": {
            "text/html": [
              "<div>\n",
              "<style scoped>\n",
              "    .dataframe tbody tr th:only-of-type {\n",
              "        vertical-align: middle;\n",
              "    }\n",
              "\n",
              "    .dataframe tbody tr th {\n",
              "        vertical-align: top;\n",
              "    }\n",
              "\n",
              "    .dataframe thead th {\n",
              "        text-align: right;\n",
              "    }\n",
              "</style>\n",
              "<table border=\"1\" class=\"dataframe\">\n",
              "  <thead>\n",
              "    <tr style=\"text-align: right;\">\n",
              "      <th></th>\n",
              "      <th>valor_lucro</th>\n",
              "      <th>valor_custo</th>\n",
              "      <th>valor_venda</th>\n",
              "    </tr>\n",
              "    <tr>\n",
              "      <th>id_loja</th>\n",
              "      <th></th>\n",
              "      <th></th>\n",
              "      <th></th>\n",
              "    </tr>\n",
              "  </thead>\n",
              "  <tbody>\n",
              "    <tr>\n",
              "      <th>199</th>\n",
              "      <td>1,294,718.51</td>\n",
              "      <td>886,385.58</td>\n",
              "      <td>2,181,104.09</td>\n",
              "    </tr>\n",
              "    <tr>\n",
              "      <th>306</th>\n",
              "      <td>1,016,493.12</td>\n",
              "      <td>707,360.49</td>\n",
              "      <td>1,723,853.61</td>\n",
              "    </tr>\n",
              "    <tr>\n",
              "      <th>307</th>\n",
              "      <td>1,186,611.46</td>\n",
              "      <td>893,036.98</td>\n",
              "      <td>2,079,648.44</td>\n",
              "    </tr>\n",
              "  </tbody>\n",
              "</table>\n",
              "</div>"
            ],
            "text/plain": [
              "         valor_lucro  valor_custo  valor_venda\n",
              "id_loja                                       \n",
              "199     1,294,718.51   886,385.58 2,181,104.09\n",
              "306     1,016,493.12   707,360.49 1,723,853.61\n",
              "307     1,186,611.46   893,036.98 2,079,648.44"
            ]
          },
          "metadata": {}
        }
      ]
    },
    {
      "cell_type": "code",
      "metadata": {
        "colab": {
          "base_uri": "https://localhost:8080/",
          "height": 294
        },
        "id": "0Bku5gw0gU4E",
        "outputId": "81a07950-1c9d-4140-fed2-f4a53b272b04"
      },
      "source": [
        "sum.plot.barh(title=\"Total Produtos Vendidos\", figsize=(10,4))\n",
        "plt.xlabel(\"Total\")\n",
        "plt.ylabel(\"Id Loja\");"
      ],
      "execution_count": 105,
      "outputs": [
        {
          "output_type": "display_data",
          "data": {
            "image/png": "[encoded data removed]",
            "text/plain": [
              "<Figure size 720x288 with 1 Axes>"
            ]
          },
          "metadata": {}
        }
      ]
    },
    {
      "cell_type": "markdown",
      "metadata": {
        "id": "39JGlAPeyFFx"
      },
      "source": [
        "* Analizar tempo médio de envio por loja e fabricante:"
      ]
    },
    {
      "cell_type": "code",
      "metadata": {
        "colab": {
          "base_uri": "https://localhost:8080/",
          "height": 189
        },
        "id": "xGNLsFQf09YU",
        "outputId": "2f55cc28-01f1-4946-c668-b7ecd0251e69"
      },
      "source": [
        "df[\"tempo_envio\"] = (df[\"data_envio\"] - df[\"data_venda\"]).dt.days\n",
        "aux = df.loc[:,{'id_loja', 'tempo_envio'}]\n",
        "print('Tempo médio de envio por Loja:')\n",
        "aux.groupby('id_loja').mean()"
      ],
      "execution_count": 106,
      "outputs": [
        {
          "output_type": "stream",
          "text": [
            "Tempo médio de envio por Loja:\n"
          ],
          "name": "stdout"
        },
        {
          "output_type": "execute_result",
          "data": {
            "text/html": [
              "<div>\n",
              "<style scoped>\n",
              "    .dataframe tbody tr th:only-of-type {\n",
              "        vertical-align: middle;\n",
              "    }\n",
              "\n",
              "    .dataframe tbody tr th {\n",
              "        vertical-align: top;\n",
              "    }\n",
              "\n",
              "    .dataframe thead th {\n",
              "        text-align: right;\n",
              "    }\n",
              "</style>\n",
              "<table border=\"1\" class=\"dataframe\">\n",
              "  <thead>\n",
              "    <tr style=\"text-align: right;\">\n",
              "      <th></th>\n",
              "      <th>tempo_envio</th>\n",
              "    </tr>\n",
              "    <tr>\n",
              "      <th>id_loja</th>\n",
              "      <th></th>\n",
              "    </tr>\n",
              "  </thead>\n",
              "  <tbody>\n",
              "    <tr>\n",
              "      <th>199</th>\n",
              "      <td>8.56</td>\n",
              "    </tr>\n",
              "    <tr>\n",
              "      <th>306</th>\n",
              "      <td>7.96</td>\n",
              "    </tr>\n",
              "    <tr>\n",
              "      <th>307</th>\n",
              "      <td>9.03</td>\n",
              "    </tr>\n",
              "  </tbody>\n",
              "</table>\n",
              "</div>"
            ],
            "text/plain": [
              "         tempo_envio\n",
              "id_loja             \n",
              "199             8.56\n",
              "306             7.96\n",
              "307             9.03"
            ]
          },
          "metadata": {},
          "execution_count": 106
        }
      ]
    },
    {
      "cell_type": "code",
      "metadata": {
        "colab": {
          "base_uri": "https://localhost:8080/",
          "height": 189
        },
        "id": "fH3HybiOyGe7",
        "outputId": "fd389ff5-380e-4deb-d709-98fa9770e13b"
      },
      "source": [
        "aux = df.loc[:,{'fabricante', 'tempo_envio'}]\n",
        "print('Tempo médio de envio por fabricante:')\n",
        "aux.groupby('fabricante').mean()"
      ],
      "execution_count": 107,
      "outputs": [
        {
          "output_type": "stream",
          "text": [
            "Tempo médio de envio por fabricante:\n"
          ],
          "name": "stdout"
        },
        {
          "output_type": "execute_result",
          "data": {
            "text/html": [
              "<div>\n",
              "<style scoped>\n",
              "    .dataframe tbody tr th:only-of-type {\n",
              "        vertical-align: middle;\n",
              "    }\n",
              "\n",
              "    .dataframe tbody tr th {\n",
              "        vertical-align: top;\n",
              "    }\n",
              "\n",
              "    .dataframe thead th {\n",
              "        text-align: right;\n",
              "    }\n",
              "</style>\n",
              "<table border=\"1\" class=\"dataframe\">\n",
              "  <thead>\n",
              "    <tr style=\"text-align: right;\">\n",
              "      <th></th>\n",
              "      <th>tempo_envio</th>\n",
              "    </tr>\n",
              "    <tr>\n",
              "      <th>fabricante</th>\n",
              "      <th></th>\n",
              "    </tr>\n",
              "  </thead>\n",
              "  <tbody>\n",
              "    <tr>\n",
              "      <th>Adventure Works</th>\n",
              "      <td>8.66</td>\n",
              "    </tr>\n",
              "    <tr>\n",
              "      <th>Contoso, Ltd</th>\n",
              "      <td>8.47</td>\n",
              "    </tr>\n",
              "    <tr>\n",
              "      <th>Fabrikam, Inc.</th>\n",
              "      <td>8.51</td>\n",
              "    </tr>\n",
              "  </tbody>\n",
              "</table>\n",
              "</div>"
            ],
            "text/plain": [
              "                 tempo_envio\n",
              "fabricante                  \n",
              "Adventure Works         8.66\n",
              "Contoso, Ltd            8.47\n",
              "Fabrikam, Inc.          8.51"
            ]
          },
          "metadata": {},
          "execution_count": 107
        }
      ]
    },
    {
      "cell_type": "code",
      "metadata": {
        "colab": {
          "base_uri": "https://localhost:8080/"
        },
        "id": "ft2ta8HSCOlo",
        "outputId": "3e18e0e4-5245-4950-b6a9-03d845124fcb"
      },
      "source": [
        "#Gráfico de Boxplot\n",
        "df[\"tempo_envio\"].describe()"
      ],
      "execution_count": 108,
      "outputs": [
        {
          "output_type": "execute_result",
          "data": {
            "text/plain": [
              "count   904.00\n",
              "mean      8.54\n",
              "std       3.06\n",
              "min       4.00\n",
              "25%       6.00\n",
              "50%       9.00\n",
              "75%      11.00\n",
              "max      20.00\n",
              "Name: tempo_envio, dtype: float64"
            ]
          },
          "metadata": {},
          "execution_count": 108
        }
      ]
    },
    {
      "cell_type": "code",
      "metadata": {
        "colab": {
          "base_uri": "https://localhost:8080/",
          "height": 482
        },
        "id": "kxsghfFQCcog",
        "outputId": "11f3bb72-36b2-4a54-ecc3-8fb6145341f8"
      },
      "source": [
        "plt.boxplot(df[\"tempo_envio\"])"
      ],
      "execution_count": 109,
      "outputs": [
        {
          "output_type": "execute_result",
          "data": {
            "text/plain": [
              "{'boxes': [<matplotlib.lines.Line2D at 0x7fdd21aaf650>],\n",
              " 'caps': [<matplotlib.lines.Line2D at 0x7fdd21446250>,\n",
              "  <matplotlib.lines.Line2D at 0x7fdd21446b10>],\n",
              " 'fliers': [<matplotlib.lines.Line2D at 0x7fdd21aff890>],\n",
              " 'means': [],\n",
              " 'medians': [<matplotlib.lines.Line2D at 0x7fdd21aff610>],\n",
              " 'whiskers': [<matplotlib.lines.Line2D at 0x7fdd21aaf090>,\n",
              "  <matplotlib.lines.Line2D at 0x7fdd21c5c190>]}"
            ]
          },
          "metadata": {},
          "execution_count": 109
        },
        {
          "output_type": "display_data",
          "data": {
            "image/png": "[encoded data removed]",
            "text/plain": [
              "<Figure size 576x396 with 1 Axes>"
            ]
          },
          "metadata": {}
        }
      ]
    },
    {
      "cell_type": "markdown",
      "metadata": {
        "id": "Mh40m00N0lQE"
      },
      "source": [
        "* Lucro por Ano e Marca."
      ]
    },
    {
      "cell_type": "code",
      "metadata": {
        "id": "7CPhZjrJ00a1",
        "colab": {
          "base_uri": "https://localhost:8080/"
        },
        "outputId": "a6c1caff-0da5-456b-f34f-acebf5d17268"
      },
      "source": [
        "#Vamos Agrupar por ano e marca\n",
        "df.groupby([df[\"data_venda\"].dt.year, \"marca\"])[\"valor_lucro\"].sum()"
      ],
      "execution_count": 110,
      "outputs": [
        {
          "output_type": "execute_result",
          "data": {
            "text/plain": [
              "data_venda  marca          \n",
              "2008        Adventure Works     306,641.16\n",
              "            Contoso              56,416.00\n",
              "            Fabrikam          1,557,020.55\n",
              "2009        Adventure Works     405,395.08\n",
              "            Contoso             138,258.95\n",
              "            Fabrikam          1,034,091.35\n",
              "Name: valor_lucro, dtype: float64"
            ]
          },
          "metadata": {},
          "execution_count": 110
        }
      ]
    },
    {
      "cell_type": "markdown",
      "metadata": {
        "id": "0uVbZ3G6_Fyj"
      },
      "source": [
        "*  Produtos mais Vendidos:"
      ]
    },
    {
      "cell_type": "code",
      "metadata": {
        "id": "0xu9qx1x4WM6",
        "colab": {
          "base_uri": "https://localhost:8080/"
        },
        "outputId": "cf44a3ea-b1de-46ad-f03c-1a37b29cca34"
      },
      "source": [
        "#Qual o total de produtos vendidos?\n",
        "df.groupby(\"produto\")[\"quantidade\"].sum().sort_values(ascending=False)"
      ],
      "execution_count": 111,
      "outputs": [
        {
          "output_type": "execute_result",
          "data": {
            "text/plain": [
              "produto\n",
              "Headphone Adapter for Contoso Phone E130 Silver    25232\n",
              "Headphone Adapter for Contoso Phone E130 White     25008\n",
              "Adventure Works Laptop15.4W M1548 Black             1089\n",
              "Fabrikam Trendsetter 2/3'' 17mm X100 Grey           1087\n",
              "Adventure Works Laptop15.4W M1548 Red               1047\n",
              "Fabrikam Trendsetter 2/3'' 17mm X100 Black           926\n",
              "Fabrikam Trendsetter 1/3'' 8.5mm X200 Black          884\n",
              "Fabrikam Trendsetter 1/3'' 8.5mm X200 Grey           845\n",
              "Fabrikam Trendsetter 1/3'' 8.5mm X200 White          789\n",
              "Name: quantidade, dtype: int64"
            ]
          },
          "metadata": {},
          "execution_count": 111
        }
      ]
    },
    {
      "cell_type": "code",
      "metadata": {
        "id": "Ov8qN2bI56NI",
        "colab": {
          "base_uri": "https://localhost:8080/",
          "height": 376
        },
        "outputId": "1472a01c-072f-4fbb-90b3-f8fff98421c2"
      },
      "source": [
        "#Gráfico Total de produtos vendidos\n",
        "df.groupby(\"produto\")[\"quantidade\"].sum().sort_values(ascending=True).plot.barh(title=\"Total Produtos Vendidos\")\n",
        "plt.xlabel(\"Total\")\n",
        "plt.ylabel(\"Produto\");"
      ],
      "execution_count": 112,
      "outputs": [
        {
          "output_type": "display_data",
          "data": {
            "image/png": "[encoded data removed]",
            "text/plain": [
              "<Figure size 576x396 with 1 Axes>"
            ]
          },
          "metadata": {}
        }
      ]
    },
    {
      "cell_type": "markdown",
      "metadata": {
        "id": "Mla0lNcc_Tht"
      },
      "source": [
        "*  Lucro por Ano e mês"
      ]
    },
    {
      "cell_type": "code",
      "metadata": {
        "id": "4-FPJ5dP5saX",
        "colab": {
          "base_uri": "https://localhost:8080/",
          "height": 735
        },
        "outputId": "e6f9dc07-2739-4b97-9c9a-8c20638bf4bb"
      },
      "source": [
        "df_2009 = df[df[\"data_venda\"].dt.year == 2009]\n",
        "aux =df_2009.loc[:,{\"data_venda\",\"valor_lucro\"}].groupby([df[\"data_venda\"].dt.year, df[\"data_venda\"].dt.month]).sum()\n",
        "aux.plot(title=\"Lucro x Mês(2009)\")\n",
        "plt.xlabel(\"Mês\")\n",
        "plt.ylabel(\"Lucro\");\n",
        "\n",
        "df_2008 = df[df[\"data_venda\"].dt.year == 2008]\n",
        "aux =df_2008.loc[:,{\"data_venda\",\"valor_lucro\"}].groupby([df[\"data_venda\"].dt.year, df[\"data_venda\"].dt.month]).sum()\n",
        "aux.plot(title=\"Lucro x Mês(2008)\")\n",
        "plt.xlabel(\"Mês\")\n",
        "plt.ylabel(\"Lucro\");"
      ],
      "execution_count": 113,
      "outputs": [
        {
          "output_type": "display_data",
          "data": {
            "image/png": "[encoded data removed]",
            "text/plain": [
              "<Figure size 576x396 with 1 Axes>"
            ]
          },
          "metadata": {}
        },
        {
          "output_type": "display_data",
          "data": {
            "image/png": "[encoded data removed]",
            "text/plain": [
              "<Figure size 576x396 with 1 Axes>"
            ]
          },
          "metadata": {}
        }
      ]
    },
    {
      "cell_type": "markdown",
      "metadata": {
        "id": "zWJPVizWB1MQ"
      },
      "source": [
        "* Lucro Por Marca"
      ]
    },
    {
      "cell_type": "code",
      "metadata": {
        "id": "8HDLr3pp_hqf",
        "colab": {
          "base_uri": "https://localhost:8080/",
          "height": 376
        },
        "outputId": "33c43999-1416-4fe0-ca8c-279891e375ba"
      },
      "source": [
        "df.groupby(\"marca\")[\"valor_lucro\"].sum().plot.bar(title=\"Lucro x Marca\")\n",
        "plt.xlabel(\"Marca\")\n",
        "plt.ylabel(\"Lucro\")\n",
        "plt.xticks(rotation='horizontal');"
      ],
      "execution_count": 114,
      "outputs": [
        {
          "output_type": "display_data",
          "data": {
            "image/png": "[encoded data removed]",
            "text/plain": [
              "<Figure size 576x396 with 1 Axes>"
            ]
          },
          "metadata": {}
        }
      ]
    },
    {
      "cell_type": "markdown",
      "metadata": {
        "id": "z8-bkAA0B58p"
      },
      "source": [
        "* Lucro Por Classe"
      ]
    },
    {
      "cell_type": "code",
      "metadata": {
        "id": "xguSC8ya_mr7",
        "colab": {
          "base_uri": "https://localhost:8080/",
          "height": 376
        },
        "outputId": "0599a626-9915-42ba-d5b9-89b7d96ae4a5"
      },
      "source": [
        "df.groupby(\"classe\")[\"valor_lucro\"].sum().plot.bar(title=\"Lucro x Classe\")\n",
        "plt.xlabel(\"Classe\")\n",
        "plt.ylabel(\"Lucro\")\n",
        "plt.xticks(rotation='horizontal');"
      ],
      "execution_count": 115,
      "outputs": [
        {
          "output_type": "display_data",
          "data": {
            "image/png": "[encoded data removed]",
            "text/plain": [
              "<Figure size 576x396 with 1 Axes>"
            ]
          },
          "metadata": {}
        }
      ]
    }
  ]
}